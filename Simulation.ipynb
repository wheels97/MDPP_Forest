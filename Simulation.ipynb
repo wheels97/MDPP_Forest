{
 "cells": [
  {
   "cell_type": "code",
   "execution_count": 1,
   "metadata": {},
   "outputs": [],
   "source": [
    "import pandas as pd\n",
    "import numpy as np\n",
    "import random"
   ]
  },
  {
   "cell_type": "markdown",
   "metadata": {},
   "source": [
    "# Data Generating"
   ]
  },
  {
   "cell_type": "markdown",
   "metadata": {},
   "source": [
    "user profile"
   ]
  },
  {
   "cell_type": "code",
   "execution_count": 4,
   "metadata": {},
   "outputs": [
    {
     "data": {
      "text/plain": [
       "array([39, 22, 50, ..., 17,  8, 24])"
      ]
     },
     "execution_count": 4,
     "metadata": {},
     "output_type": "execute_result"
    }
   ],
   "source": [
    "age_list = []\n",
    "for i in range(50000):\n",
    "    age_list.append(random.randint(8,70))\n",
    "age_array = np.array(age_list)\n",
    "age_array"
   ]
  },
  {
   "cell_type": "code",
   "execution_count": 6,
   "metadata": {},
   "outputs": [
    {
     "data": {
      "text/plain": [
       "array([0, 1, 1, ..., 0, 1, 1])"
      ]
     },
     "execution_count": 6,
     "metadata": {},
     "output_type": "execute_result"
    }
   ],
   "source": [
    "sex_list = []\n",
    "for i in range(50000):\n",
    "    sex_list.append(random.randint(0,1))\n",
    "sex_array = np.array(sex_list)\n",
    "sex_array"
   ]
  },
  {
   "cell_type": "code",
   "execution_count": 7,
   "metadata": {},
   "outputs": [
    {
     "data": {
      "text/plain": [
       "array([4, 0, 1, ..., 4, 1, 1])"
      ]
     },
     "execution_count": 7,
     "metadata": {},
     "output_type": "execute_result"
    }
   ],
   "source": [
    "degree_list = []\n",
    "for i in range(50000):\n",
    "    degree_list.append(random.randint(0,4))\n",
    "degree_array = np.array(degree_list)\n",
    "degree_array"
   ]
  },
  {
   "cell_type": "code",
   "execution_count": 8,
   "metadata": {},
   "outputs": [
    {
     "data": {
      "text/plain": [
       "array([2, 2, 2, ..., 3, 4, 2])"
      ]
     },
     "execution_count": 8,
     "metadata": {},
     "output_type": "execute_result"
    }
   ],
   "source": [
    "city_list = []\n",
    "for i in range(50000):\n",
    "    city_list.append(random.randint(0,4))\n",
    "city_array = np.array(city_list)\n",
    "city_array"
   ]
  },
  {
   "cell_type": "code",
   "execution_count": 16,
   "metadata": {},
   "outputs": [
    {
     "data": {
      "text/plain": [
       "array([0.50666667, 0.        , 1.        , ..., 0.60666667, 0.20666667,\n",
       "       0.        ])"
      ]
     },
     "execution_count": 16,
     "metadata": {},
     "output_type": "execute_result"
    }
   ],
   "source": [
    "x1_list = []\n",
    "for i in range(50000):\n",
    "    t = random.randint(0,200)\n",
    "    x1_list.append(0 if t<=30 else 1 if t>180 else (t-30)/150)\n",
    "x1_array = np.array(x1_list)\n",
    "x1_array"
   ]
  },
  {
   "cell_type": "code",
   "execution_count": 18,
   "metadata": {},
   "outputs": [
    {
     "data": {
      "text/plain": [
       "array([0.33333333, 0.98      , 0.80666667, ..., 0.63333333, 0.46      ,\n",
       "       0.55333333])"
      ]
     },
     "execution_count": 18,
     "metadata": {},
     "output_type": "execute_result"
    }
   ],
   "source": [
    "x2_list = []\n",
    "for i in range(50000):\n",
    "    t = random.randint(0,200)\n",
    "    x2_list.append(0 if t<=30 else 1 if t>180 else (t-30)/150)\n",
    "x2_array = np.array(x2_list)\n",
    "x2_array"
   ]
  },
  {
   "cell_type": "code",
   "execution_count": 19,
   "metadata": {},
   "outputs": [
    {
     "data": {
      "text/plain": [
       "array([0.70666667, 0.85333333, 1.        , ..., 0.19333333, 1.        ,\n",
       "       0.33333333])"
      ]
     },
     "execution_count": 19,
     "metadata": {},
     "output_type": "execute_result"
    }
   ],
   "source": [
    "x3_list = []\n",
    "for i in range(50000):\n",
    "    t = random.randint(0,200)\n",
    "    x3_list.append(0 if t<=30 else 1 if t>180 else (t-30)/150)\n",
    "x3_array = np.array(x3_list)\n",
    "x3_array"
   ]
  },
  {
   "cell_type": "code",
   "execution_count": 28,
   "metadata": {},
   "outputs": [
    {
     "data": {
      "text/html": [
       "<div>\n",
       "<style scoped>\n",
       "    .dataframe tbody tr th:only-of-type {\n",
       "        vertical-align: middle;\n",
       "    }\n",
       "\n",
       "    .dataframe tbody tr th {\n",
       "        vertical-align: top;\n",
       "    }\n",
       "\n",
       "    .dataframe thead th {\n",
       "        text-align: right;\n",
       "    }\n",
       "</style>\n",
       "<table border=\"1\" class=\"dataframe\">\n",
       "  <thead>\n",
       "    <tr style=\"text-align: right;\">\n",
       "      <th></th>\n",
       "      <th>age</th>\n",
       "      <th>sex</th>\n",
       "      <th>degree</th>\n",
       "      <th>city</th>\n",
       "      <th>x1</th>\n",
       "      <th>x2</th>\n",
       "      <th>x3</th>\n",
       "    </tr>\n",
       "  </thead>\n",
       "  <tbody>\n",
       "    <tr>\n",
       "      <td>0</td>\n",
       "      <td>39.0</td>\n",
       "      <td>0.0</td>\n",
       "      <td>4.0</td>\n",
       "      <td>2.0</td>\n",
       "      <td>0.506667</td>\n",
       "      <td>0.333333</td>\n",
       "      <td>0.706667</td>\n",
       "    </tr>\n",
       "    <tr>\n",
       "      <td>1</td>\n",
       "      <td>22.0</td>\n",
       "      <td>1.0</td>\n",
       "      <td>0.0</td>\n",
       "      <td>2.0</td>\n",
       "      <td>0.000000</td>\n",
       "      <td>0.980000</td>\n",
       "      <td>0.853333</td>\n",
       "    </tr>\n",
       "    <tr>\n",
       "      <td>2</td>\n",
       "      <td>50.0</td>\n",
       "      <td>1.0</td>\n",
       "      <td>1.0</td>\n",
       "      <td>2.0</td>\n",
       "      <td>1.000000</td>\n",
       "      <td>0.806667</td>\n",
       "      <td>1.000000</td>\n",
       "    </tr>\n",
       "    <tr>\n",
       "      <td>3</td>\n",
       "      <td>14.0</td>\n",
       "      <td>0.0</td>\n",
       "      <td>1.0</td>\n",
       "      <td>4.0</td>\n",
       "      <td>0.973333</td>\n",
       "      <td>0.380000</td>\n",
       "      <td>0.440000</td>\n",
       "    </tr>\n",
       "    <tr>\n",
       "      <td>4</td>\n",
       "      <td>51.0</td>\n",
       "      <td>1.0</td>\n",
       "      <td>1.0</td>\n",
       "      <td>3.0</td>\n",
       "      <td>0.000000</td>\n",
       "      <td>0.946667</td>\n",
       "      <td>0.993333</td>\n",
       "    </tr>\n",
       "    <tr>\n",
       "      <td>...</td>\n",
       "      <td>...</td>\n",
       "      <td>...</td>\n",
       "      <td>...</td>\n",
       "      <td>...</td>\n",
       "      <td>...</td>\n",
       "      <td>...</td>\n",
       "      <td>...</td>\n",
       "    </tr>\n",
       "    <tr>\n",
       "      <td>49995</td>\n",
       "      <td>11.0</td>\n",
       "      <td>1.0</td>\n",
       "      <td>4.0</td>\n",
       "      <td>2.0</td>\n",
       "      <td>1.000000</td>\n",
       "      <td>0.053333</td>\n",
       "      <td>0.720000</td>\n",
       "    </tr>\n",
       "    <tr>\n",
       "      <td>49996</td>\n",
       "      <td>20.0</td>\n",
       "      <td>0.0</td>\n",
       "      <td>4.0</td>\n",
       "      <td>2.0</td>\n",
       "      <td>1.000000</td>\n",
       "      <td>0.453333</td>\n",
       "      <td>0.240000</td>\n",
       "    </tr>\n",
       "    <tr>\n",
       "      <td>49997</td>\n",
       "      <td>17.0</td>\n",
       "      <td>0.0</td>\n",
       "      <td>4.0</td>\n",
       "      <td>3.0</td>\n",
       "      <td>0.606667</td>\n",
       "      <td>0.633333</td>\n",
       "      <td>0.193333</td>\n",
       "    </tr>\n",
       "    <tr>\n",
       "      <td>49998</td>\n",
       "      <td>8.0</td>\n",
       "      <td>1.0</td>\n",
       "      <td>1.0</td>\n",
       "      <td>4.0</td>\n",
       "      <td>0.206667</td>\n",
       "      <td>0.460000</td>\n",
       "      <td>1.000000</td>\n",
       "    </tr>\n",
       "    <tr>\n",
       "      <td>49999</td>\n",
       "      <td>24.0</td>\n",
       "      <td>1.0</td>\n",
       "      <td>1.0</td>\n",
       "      <td>2.0</td>\n",
       "      <td>0.000000</td>\n",
       "      <td>0.553333</td>\n",
       "      <td>0.333333</td>\n",
       "    </tr>\n",
       "  </tbody>\n",
       "</table>\n",
       "<p>50000 rows × 7 columns</p>\n",
       "</div>"
      ],
      "text/plain": [
       "        age  sex  degree  city        x1        x2        x3\n",
       "0      39.0  0.0     4.0   2.0  0.506667  0.333333  0.706667\n",
       "1      22.0  1.0     0.0   2.0  0.000000  0.980000  0.853333\n",
       "2      50.0  1.0     1.0   2.0  1.000000  0.806667  1.000000\n",
       "3      14.0  0.0     1.0   4.0  0.973333  0.380000  0.440000\n",
       "4      51.0  1.0     1.0   3.0  0.000000  0.946667  0.993333\n",
       "...     ...  ...     ...   ...       ...       ...       ...\n",
       "49995  11.0  1.0     4.0   2.0  1.000000  0.053333  0.720000\n",
       "49996  20.0  0.0     4.0   2.0  1.000000  0.453333  0.240000\n",
       "49997  17.0  0.0     4.0   3.0  0.606667  0.633333  0.193333\n",
       "49998   8.0  1.0     1.0   4.0  0.206667  0.460000  1.000000\n",
       "49999  24.0  1.0     1.0   2.0  0.000000  0.553333  0.333333\n",
       "\n",
       "[50000 rows x 7 columns]"
      ]
     },
     "execution_count": 28,
     "metadata": {},
     "output_type": "execute_result"
    }
   ],
   "source": [
    "feature_array = np.array([age_array,sex_array,degree_array,city_array,x1_array,x2_array,x3_array])\n",
    "feature_df = pd.DataFrame(feature_array.T,columns=['age','sex','degree','city','x1','x2','x3'])\n",
    "feature_df"
   ]
  },
  {
   "cell_type": "code",
   "execution_count": 29,
   "metadata": {},
   "outputs": [],
   "source": [
    "#feature_df.to_csv('feature_random_v1.csv')"
   ]
  },
  {
   "cell_type": "markdown",
   "metadata": {},
   "source": [
    "user behaviour"
   ]
  },
  {
   "cell_type": "code",
   "execution_count": 52,
   "metadata": {},
   "outputs": [],
   "source": [
    "vp_array = np.zeros((50000,6))"
   ]
  },
  {
   "cell_type": "code",
   "execution_count": 53,
   "metadata": {},
   "outputs": [
    {
     "data": {
      "text/plain": [
       "array([[0., 0., 0., 0., 0., 0.],\n",
       "       [0., 0., 0., 0., 0., 0.],\n",
       "       [0., 0., 0., 0., 0., 0.],\n",
       "       ...,\n",
       "       [0., 0., 0., 0., 0., 0.],\n",
       "       [0., 0., 0., 0., 0., 0.],\n",
       "       [0., 0., 0., 0., 0., 0.]])"
      ]
     },
     "execution_count": 53,
     "metadata": {},
     "output_type": "execute_result"
    }
   ],
   "source": [
    "vp_array"
   ]
  },
  {
   "cell_type": "code",
   "execution_count": 54,
   "metadata": {},
   "outputs": [
    {
     "data": {
      "text/plain": [
       "array([[0.18064516, 0.11290323, 0.00322581, 0.16451613, 0.25483871,\n",
       "        0.28387097],\n",
       "       [0.13839286, 0.26339286, 0.04464286, 0.13392857, 0.375     ,\n",
       "        0.04464286],\n",
       "       [0.11032028, 0.04626335, 0.12455516, 0.10676157, 0.26690391,\n",
       "        0.34519573],\n",
       "       ...,\n",
       "       [0.20512821, 0.08974359, 0.28205128, 0.13461538, 0.05128205,\n",
       "        0.23717949],\n",
       "       [0.11206897, 0.23275862, 0.24425287, 0.11494253, 0.09770115,\n",
       "        0.19827586],\n",
       "       [0.19397993, 0.08026756, 0.30769231, 0.28428094, 0.04682274,\n",
       "        0.08695652]])"
      ]
     },
     "execution_count": 54,
     "metadata": {},
     "output_type": "execute_result"
    }
   ],
   "source": [
    "for j in range(50000):\n",
    "    temp = []\n",
    "    for i in range(6):\n",
    "        temp.append(random.randint(0,100))\n",
    "    vp_array[j] = np.array(temp)/sum(np.array(temp))\n",
    "vp_array"
   ]
  },
  {
   "cell_type": "code",
   "execution_count": 55,
   "metadata": {},
   "outputs": [
    {
     "data": {
      "text/plain": [
       "(array([9.3500e+03, 1.0645e+04, 1.2274e+04, 1.1016e+04, 4.9650e+03,\n",
       "        1.2870e+03, 3.3800e+02, 9.6000e+01, 2.0000e+01, 9.0000e+00]),\n",
       " array([0.        , 0.06870229, 0.13740458, 0.20610687, 0.27480916,\n",
       "        0.34351145, 0.41221374, 0.48091603, 0.54961832, 0.61832061,\n",
       "        0.6870229 ]),\n",
       " <a list of 10 Patch objects>)"
      ]
     },
     "execution_count": 55,
     "metadata": {},
     "output_type": "execute_result"
    },
    {
     "data": {
      "image/png": "[encoded data removed]",
      "text/plain": [
       "<Figure size 432x288 with 1 Axes>"
      ]
     },
     "metadata": {
      "needs_background": "light"
     },
     "output_type": "display_data"
    }
   ],
   "source": [
    "# t distribution（possion）\n",
    "import matplotlib.pyplot as plt\n",
    "plt.hist(vp_array[:,0])"
   ]
  },
  {
   "cell_type": "code",
   "execution_count": 56,
   "metadata": {},
   "outputs": [
    {
     "data": {
      "text/html": [
       "<div>\n",
       "<style scoped>\n",
       "    .dataframe tbody tr th:only-of-type {\n",
       "        vertical-align: middle;\n",
       "    }\n",
       "\n",
       "    .dataframe tbody tr th {\n",
       "        vertical-align: top;\n",
       "    }\n",
       "\n",
       "    .dataframe thead th {\n",
       "        text-align: right;\n",
       "    }\n",
       "</style>\n",
       "<table border=\"1\" class=\"dataframe\">\n",
       "  <thead>\n",
       "    <tr style=\"text-align: right;\">\n",
       "      <th></th>\n",
       "      <th>yingshi</th>\n",
       "      <th>meishi</th>\n",
       "      <th>youxi</th>\n",
       "      <th>shenghuo</th>\n",
       "      <th>huwai</th>\n",
       "      <th>yanzhi</th>\n",
       "    </tr>\n",
       "  </thead>\n",
       "  <tbody>\n",
       "    <tr>\n",
       "      <td>0</td>\n",
       "      <td>0.180645</td>\n",
       "      <td>0.112903</td>\n",
       "      <td>0.003226</td>\n",
       "      <td>0.164516</td>\n",
       "      <td>0.254839</td>\n",
       "      <td>0.283871</td>\n",
       "    </tr>\n",
       "    <tr>\n",
       "      <td>1</td>\n",
       "      <td>0.138393</td>\n",
       "      <td>0.263393</td>\n",
       "      <td>0.044643</td>\n",
       "      <td>0.133929</td>\n",
       "      <td>0.375000</td>\n",
       "      <td>0.044643</td>\n",
       "    </tr>\n",
       "    <tr>\n",
       "      <td>2</td>\n",
       "      <td>0.110320</td>\n",
       "      <td>0.046263</td>\n",
       "      <td>0.124555</td>\n",
       "      <td>0.106762</td>\n",
       "      <td>0.266904</td>\n",
       "      <td>0.345196</td>\n",
       "    </tr>\n",
       "    <tr>\n",
       "      <td>3</td>\n",
       "      <td>0.053846</td>\n",
       "      <td>0.019231</td>\n",
       "      <td>0.196154</td>\n",
       "      <td>0.130769</td>\n",
       "      <td>0.384615</td>\n",
       "      <td>0.215385</td>\n",
       "    </tr>\n",
       "    <tr>\n",
       "      <td>4</td>\n",
       "      <td>0.019231</td>\n",
       "      <td>0.250000</td>\n",
       "      <td>0.334615</td>\n",
       "      <td>0.207692</td>\n",
       "      <td>0.115385</td>\n",
       "      <td>0.073077</td>\n",
       "    </tr>\n",
       "    <tr>\n",
       "      <td>...</td>\n",
       "      <td>...</td>\n",
       "      <td>...</td>\n",
       "      <td>...</td>\n",
       "      <td>...</td>\n",
       "      <td>...</td>\n",
       "      <td>...</td>\n",
       "    </tr>\n",
       "    <tr>\n",
       "      <td>49995</td>\n",
       "      <td>0.281853</td>\n",
       "      <td>0.000000</td>\n",
       "      <td>0.212355</td>\n",
       "      <td>0.019305</td>\n",
       "      <td>0.370656</td>\n",
       "      <td>0.115830</td>\n",
       "    </tr>\n",
       "    <tr>\n",
       "      <td>49996</td>\n",
       "      <td>0.282799</td>\n",
       "      <td>0.087464</td>\n",
       "      <td>0.206997</td>\n",
       "      <td>0.099125</td>\n",
       "      <td>0.107872</td>\n",
       "      <td>0.215743</td>\n",
       "    </tr>\n",
       "    <tr>\n",
       "      <td>49997</td>\n",
       "      <td>0.205128</td>\n",
       "      <td>0.089744</td>\n",
       "      <td>0.282051</td>\n",
       "      <td>0.134615</td>\n",
       "      <td>0.051282</td>\n",
       "      <td>0.237179</td>\n",
       "    </tr>\n",
       "    <tr>\n",
       "      <td>49998</td>\n",
       "      <td>0.112069</td>\n",
       "      <td>0.232759</td>\n",
       "      <td>0.244253</td>\n",
       "      <td>0.114943</td>\n",
       "      <td>0.097701</td>\n",
       "      <td>0.198276</td>\n",
       "    </tr>\n",
       "    <tr>\n",
       "      <td>49999</td>\n",
       "      <td>0.193980</td>\n",
       "      <td>0.080268</td>\n",
       "      <td>0.307692</td>\n",
       "      <td>0.284281</td>\n",
       "      <td>0.046823</td>\n",
       "      <td>0.086957</td>\n",
       "    </tr>\n",
       "  </tbody>\n",
       "</table>\n",
       "<p>50000 rows × 6 columns</p>\n",
       "</div>"
      ],
      "text/plain": [
       "        yingshi    meishi     youxi  shenghuo     huwai    yanzhi\n",
       "0      0.180645  0.112903  0.003226  0.164516  0.254839  0.283871\n",
       "1      0.138393  0.263393  0.044643  0.133929  0.375000  0.044643\n",
       "2      0.110320  0.046263  0.124555  0.106762  0.266904  0.345196\n",
       "3      0.053846  0.019231  0.196154  0.130769  0.384615  0.215385\n",
       "4      0.019231  0.250000  0.334615  0.207692  0.115385  0.073077\n",
       "...         ...       ...       ...       ...       ...       ...\n",
       "49995  0.281853  0.000000  0.212355  0.019305  0.370656  0.115830\n",
       "49996  0.282799  0.087464  0.206997  0.099125  0.107872  0.215743\n",
       "49997  0.205128  0.089744  0.282051  0.134615  0.051282  0.237179\n",
       "49998  0.112069  0.232759  0.244253  0.114943  0.097701  0.198276\n",
       "49999  0.193980  0.080268  0.307692  0.284281  0.046823  0.086957\n",
       "\n",
       "[50000 rows x 6 columns]"
      ]
     },
     "execution_count": 56,
     "metadata": {},
     "output_type": "execute_result"
    }
   ],
   "source": [
    "vp_df = pd.DataFrame(vp_array,columns=['yingshi','meishi','youxi','shenghuo','huwai','yanzhi'])\n",
    "vp_df"
   ]
  },
  {
   "cell_type": "code",
   "execution_count": 57,
   "metadata": {},
   "outputs": [],
   "source": [
    "vp_df.to_csv('vp_6_v1.csv')"
   ]
  },
  {
   "cell_type": "markdown",
   "metadata": {},
   "source": [
    "generate y according to the features  \n",
    "根据特征构造y：不同人群喜欢的视频类型不同；x1为登陆频率，要额外加分；x3为混杂变量"
   ]
  },
  {
   "cell_type": "raw",
   "metadata": {},
   "source": [
    "#年龄：游戏，生活；学历:影视，户外，x2:美食，颜值\n",
    "#年龄低于45，学历>1，x2>0.5：年轻精英现代：影视25，美食25，游戏35，生活5，户外5，颜值5\n",
    "#年龄低于45，学历>1，x2<=0.5：年轻精英传统：影视25，美食5，游戏35，生活5，户外5，颜值25\n",
    "#年龄低于45，学历<=1，x2>0.5：年轻普通现代：影视5，美食25，游戏35，生活5，户外25，颜值5\n",
    "#年龄低于45，学历<=1，x2<=0.5：年轻普通传统：影视5，美食5，游戏35，生活5，户外25，颜值25\n",
    "#年龄高于45，学历>1，x2>0.5：年轻精英现代：影视25，美食25，游戏5，生活35，户外5，颜值5\n",
    "#年龄高于45，学历>1，x2<=0.5：年轻精英现代：影视25，美食5，游戏5，生活35，户外5，颜值25\n",
    "#年龄高于45，学历<=1，x2>0.5：年轻精英现代：影视5，美食25，游戏5，生活35，户外25，颜值5\n",
    "#年龄高于45，学历<=1，x2<=0.5：年轻精英现代：影视5，美食5，游戏5，生活35，户外25，颜值25\n",
    "\n",
    "#城市越大，y越大；x1越大，y越大"
   ]
  },
  {
   "cell_type": "code",
   "execution_count": 6,
   "metadata": {},
   "outputs": [],
   "source": [
    "feature_df = pd.read_csv('feature_random_v1.csv')\n",
    "vp_df = pd.read_csv('vp_6_v1.csv')"
   ]
  },
  {
   "cell_type": "code",
   "execution_count": 18,
   "metadata": {},
   "outputs": [
    {
     "data": {
      "text/html": [
       "<div>\n",
       "<style scoped>\n",
       "    .dataframe tbody tr th:only-of-type {\n",
       "        vertical-align: middle;\n",
       "    }\n",
       "\n",
       "    .dataframe tbody tr th {\n",
       "        vertical-align: top;\n",
       "    }\n",
       "\n",
       "    .dataframe thead th {\n",
       "        text-align: right;\n",
       "    }\n",
       "</style>\n",
       "<table border=\"1\" class=\"dataframe\">\n",
       "  <thead>\n",
       "    <tr style=\"text-align: right;\">\n",
       "      <th></th>\n",
       "      <th>age</th>\n",
       "      <th>sex</th>\n",
       "      <th>degree</th>\n",
       "      <th>city</th>\n",
       "      <th>x1</th>\n",
       "      <th>x2</th>\n",
       "      <th>x3</th>\n",
       "      <th>yingshi</th>\n",
       "      <th>meishi</th>\n",
       "      <th>youxi</th>\n",
       "      <th>shenghuo</th>\n",
       "      <th>huwai</th>\n",
       "      <th>yanzhi</th>\n",
       "    </tr>\n",
       "  </thead>\n",
       "  <tbody>\n",
       "    <tr>\n",
       "      <td>0</td>\n",
       "      <td>39.0</td>\n",
       "      <td>0.0</td>\n",
       "      <td>4.0</td>\n",
       "      <td>2.0</td>\n",
       "      <td>0.506667</td>\n",
       "      <td>0.333333</td>\n",
       "      <td>0.706667</td>\n",
       "      <td>0.180645</td>\n",
       "      <td>0.112903</td>\n",
       "      <td>0.003226</td>\n",
       "      <td>0.164516</td>\n",
       "      <td>0.254839</td>\n",
       "      <td>0.283871</td>\n",
       "    </tr>\n",
       "    <tr>\n",
       "      <td>1</td>\n",
       "      <td>22.0</td>\n",
       "      <td>1.0</td>\n",
       "      <td>0.0</td>\n",
       "      <td>2.0</td>\n",
       "      <td>0.000000</td>\n",
       "      <td>0.980000</td>\n",
       "      <td>0.853333</td>\n",
       "      <td>0.138393</td>\n",
       "      <td>0.263393</td>\n",
       "      <td>0.044643</td>\n",
       "      <td>0.133929</td>\n",
       "      <td>0.375000</td>\n",
       "      <td>0.044643</td>\n",
       "    </tr>\n",
       "    <tr>\n",
       "      <td>2</td>\n",
       "      <td>50.0</td>\n",
       "      <td>1.0</td>\n",
       "      <td>1.0</td>\n",
       "      <td>2.0</td>\n",
       "      <td>1.000000</td>\n",
       "      <td>0.806667</td>\n",
       "      <td>1.000000</td>\n",
       "      <td>0.110320</td>\n",
       "      <td>0.046263</td>\n",
       "      <td>0.124555</td>\n",
       "      <td>0.106762</td>\n",
       "      <td>0.266904</td>\n",
       "      <td>0.345196</td>\n",
       "    </tr>\n",
       "    <tr>\n",
       "      <td>3</td>\n",
       "      <td>14.0</td>\n",
       "      <td>0.0</td>\n",
       "      <td>1.0</td>\n",
       "      <td>4.0</td>\n",
       "      <td>0.973333</td>\n",
       "      <td>0.380000</td>\n",
       "      <td>0.440000</td>\n",
       "      <td>0.053846</td>\n",
       "      <td>0.019231</td>\n",
       "      <td>0.196154</td>\n",
       "      <td>0.130769</td>\n",
       "      <td>0.384615</td>\n",
       "      <td>0.215385</td>\n",
       "    </tr>\n",
       "    <tr>\n",
       "      <td>4</td>\n",
       "      <td>51.0</td>\n",
       "      <td>1.0</td>\n",
       "      <td>1.0</td>\n",
       "      <td>3.0</td>\n",
       "      <td>0.000000</td>\n",
       "      <td>0.946667</td>\n",
       "      <td>0.993333</td>\n",
       "      <td>0.019231</td>\n",
       "      <td>0.250000</td>\n",
       "      <td>0.334615</td>\n",
       "      <td>0.207692</td>\n",
       "      <td>0.115385</td>\n",
       "      <td>0.073077</td>\n",
       "    </tr>\n",
       "    <tr>\n",
       "      <td>...</td>\n",
       "      <td>...</td>\n",
       "      <td>...</td>\n",
       "      <td>...</td>\n",
       "      <td>...</td>\n",
       "      <td>...</td>\n",
       "      <td>...</td>\n",
       "      <td>...</td>\n",
       "      <td>...</td>\n",
       "      <td>...</td>\n",
       "      <td>...</td>\n",
       "      <td>...</td>\n",
       "      <td>...</td>\n",
       "      <td>...</td>\n",
       "    </tr>\n",
       "    <tr>\n",
       "      <td>49995</td>\n",
       "      <td>11.0</td>\n",
       "      <td>1.0</td>\n",
       "      <td>4.0</td>\n",
       "      <td>2.0</td>\n",
       "      <td>1.000000</td>\n",
       "      <td>0.053333</td>\n",
       "      <td>0.720000</td>\n",
       "      <td>0.281853</td>\n",
       "      <td>0.000000</td>\n",
       "      <td>0.212355</td>\n",
       "      <td>0.019305</td>\n",
       "      <td>0.370656</td>\n",
       "      <td>0.115830</td>\n",
       "    </tr>\n",
       "    <tr>\n",
       "      <td>49996</td>\n",
       "      <td>20.0</td>\n",
       "      <td>0.0</td>\n",
       "      <td>4.0</td>\n",
       "      <td>2.0</td>\n",
       "      <td>1.000000</td>\n",
       "      <td>0.453333</td>\n",
       "      <td>0.240000</td>\n",
       "      <td>0.282799</td>\n",
       "      <td>0.087464</td>\n",
       "      <td>0.206997</td>\n",
       "      <td>0.099125</td>\n",
       "      <td>0.107872</td>\n",
       "      <td>0.215743</td>\n",
       "    </tr>\n",
       "    <tr>\n",
       "      <td>49997</td>\n",
       "      <td>17.0</td>\n",
       "      <td>0.0</td>\n",
       "      <td>4.0</td>\n",
       "      <td>3.0</td>\n",
       "      <td>0.606667</td>\n",
       "      <td>0.633333</td>\n",
       "      <td>0.193333</td>\n",
       "      <td>0.205128</td>\n",
       "      <td>0.089744</td>\n",
       "      <td>0.282051</td>\n",
       "      <td>0.134615</td>\n",
       "      <td>0.051282</td>\n",
       "      <td>0.237179</td>\n",
       "    </tr>\n",
       "    <tr>\n",
       "      <td>49998</td>\n",
       "      <td>8.0</td>\n",
       "      <td>1.0</td>\n",
       "      <td>1.0</td>\n",
       "      <td>4.0</td>\n",
       "      <td>0.206667</td>\n",
       "      <td>0.460000</td>\n",
       "      <td>1.000000</td>\n",
       "      <td>0.112069</td>\n",
       "      <td>0.232759</td>\n",
       "      <td>0.244253</td>\n",
       "      <td>0.114943</td>\n",
       "      <td>0.097701</td>\n",
       "      <td>0.198276</td>\n",
       "    </tr>\n",
       "    <tr>\n",
       "      <td>49999</td>\n",
       "      <td>24.0</td>\n",
       "      <td>1.0</td>\n",
       "      <td>1.0</td>\n",
       "      <td>2.0</td>\n",
       "      <td>0.000000</td>\n",
       "      <td>0.553333</td>\n",
       "      <td>0.333333</td>\n",
       "      <td>0.193980</td>\n",
       "      <td>0.080268</td>\n",
       "      <td>0.307692</td>\n",
       "      <td>0.284281</td>\n",
       "      <td>0.046823</td>\n",
       "      <td>0.086957</td>\n",
       "    </tr>\n",
       "  </tbody>\n",
       "</table>\n",
       "<p>50000 rows × 13 columns</p>\n",
       "</div>"
      ],
      "text/plain": [
       "        age  sex  degree  city        x1        x2        x3   yingshi  \\\n",
       "0      39.0  0.0     4.0   2.0  0.506667  0.333333  0.706667  0.180645   \n",
       "1      22.0  1.0     0.0   2.0  0.000000  0.980000  0.853333  0.138393   \n",
       "2      50.0  1.0     1.0   2.0  1.000000  0.806667  1.000000  0.110320   \n",
       "3      14.0  0.0     1.0   4.0  0.973333  0.380000  0.440000  0.053846   \n",
       "4      51.0  1.0     1.0   3.0  0.000000  0.946667  0.993333  0.019231   \n",
       "...     ...  ...     ...   ...       ...       ...       ...       ...   \n",
       "49995  11.0  1.0     4.0   2.0  1.000000  0.053333  0.720000  0.281853   \n",
       "49996  20.0  0.0     4.0   2.0  1.000000  0.453333  0.240000  0.282799   \n",
       "49997  17.0  0.0     4.0   3.0  0.606667  0.633333  0.193333  0.205128   \n",
       "49998   8.0  1.0     1.0   4.0  0.206667  0.460000  1.000000  0.112069   \n",
       "49999  24.0  1.0     1.0   2.0  0.000000  0.553333  0.333333  0.193980   \n",
       "\n",
       "         meishi     youxi  shenghuo     huwai    yanzhi  \n",
       "0      0.112903  0.003226  0.164516  0.254839  0.283871  \n",
       "1      0.263393  0.044643  0.133929  0.375000  0.044643  \n",
       "2      0.046263  0.124555  0.106762  0.266904  0.345196  \n",
       "3      0.019231  0.196154  0.130769  0.384615  0.215385  \n",
       "4      0.250000  0.334615  0.207692  0.115385  0.073077  \n",
       "...         ...       ...       ...       ...       ...  \n",
       "49995  0.000000  0.212355  0.019305  0.370656  0.115830  \n",
       "49996  0.087464  0.206997  0.099125  0.107872  0.215743  \n",
       "49997  0.089744  0.282051  0.134615  0.051282  0.237179  \n",
       "49998  0.232759  0.244253  0.114943  0.097701  0.198276  \n",
       "49999  0.080268  0.307692  0.284281  0.046823  0.086957  \n",
       "\n",
       "[50000 rows x 13 columns]"
      ]
     },
     "execution_count": 18,
     "metadata": {},
     "output_type": "execute_result"
    }
   ],
   "source": [
    "df = pd.concat([feature_df,vp_df],axis=1)\n",
    "df = df[['age','sex','degree','city','x1','x2','x3','yingshi','meishi','youxi','shenghuo','huwai','yanzhi']]\n",
    "df"
   ]
  },
  {
   "cell_type": "code",
   "execution_count": 20,
   "metadata": {},
   "outputs": [
    {
     "data": {
      "text/plain": [
       "array([[3.90000000e+01, 0.00000000e+00, 4.00000000e+00, ...,\n",
       "        1.64516129e-01, 2.54838710e-01, 2.83870968e-01],\n",
       "       [2.20000000e+01, 1.00000000e+00, 0.00000000e+00, ...,\n",
       "        1.33928571e-01, 3.75000000e-01, 4.46428571e-02],\n",
       "       [5.00000000e+01, 1.00000000e+00, 1.00000000e+00, ...,\n",
       "        1.06761566e-01, 2.66903915e-01, 3.45195730e-01],\n",
       "       ...,\n",
       "       [1.70000000e+01, 0.00000000e+00, 4.00000000e+00, ...,\n",
       "        1.34615385e-01, 5.12820513e-02, 2.37179487e-01],\n",
       "       [8.00000000e+00, 1.00000000e+00, 1.00000000e+00, ...,\n",
       "        1.14942529e-01, 9.77011494e-02, 1.98275862e-01],\n",
       "       [2.40000000e+01, 1.00000000e+00, 1.00000000e+00, ...,\n",
       "        2.84280936e-01, 4.68227425e-02, 8.69565217e-02]])"
      ]
     },
     "execution_count": 20,
     "metadata": {},
     "output_type": "execute_result"
    }
   ],
   "source": [
    "df_temp = df.values\n",
    "df_temp"
   ]
  },
  {
   "cell_type": "code",
   "execution_count": 21,
   "metadata": {},
   "outputs": [],
   "source": [
    "y = [0]*50000\n",
    "for i in range(50000):\n",
    "    ys = 0\n",
    "    ft = df_temp[i]\n",
    "    #age\n",
    "    if ft[0] <= 45:\n",
    "        ys +=(-(ft[9]-0.35)**2 if ft[9]<=0.35 else 0)+0.35**2+(-(ft[10]-0.05)**2 if ft[10]<=0.05 else 0)+0.05**2\n",
    "    else:\n",
    "        ys +=(-(ft[10]-0.35)**2 if ft[10]<=0.35 else 0)+0.35**2+(-(ft[9]-0.05)**2 if ft[9]<=0.05 else 0)+0.05**2\n",
    "    #degree\n",
    "    if ft[2] > 1:\n",
    "        ys +=(-(ft[7]-0.25)**2 if ft[7]<=0.25 else 0)+0.25**2+(-(ft[11]-0.05)**2 if ft[11]<=0.05 else 0)+0.05**2\n",
    "    else:\n",
    "        ys +=(-(ft[11]-0.25)**2 if ft[11]<=0.25 else 0)+0.25**2+(-(ft[7]-0.05)**2 if ft[7]<=0.05 else 0)+0.05**2\n",
    "    #x2\n",
    "    if ft[5] >0.5:\n",
    "        ys +=(-(ft[8]-0.25)**2 if ft[8]<=0.25 else 0)+0.25**2+(-(ft[12]-0.05)**2 if ft[12]<=0.05 else 0)+0.05**2\n",
    "    else:\n",
    "        ys +=(-(ft[12]-0.25)**2 if ft[12]<=0.25 else 0)+0.25**2+(-(ft[8]-0.05)**2 if ft[8]<=0.05 else 0)+0.05**2 \n",
    "    y[i] = ys"
   ]
  },
  {
   "cell_type": "code",
   "execution_count": 24,
   "metadata": {},
   "outputs": [
    {
     "data": {
      "text/plain": [
       "array([3.90000000e+01, 0.00000000e+00, 4.00000000e+00, 2.00000000e+00,\n",
       "       5.06666667e-01, 3.33333333e-01, 7.06666667e-01, 1.80645161e-01,\n",
       "       1.12903226e-01, 3.22580645e-03, 1.64516129e-01, 2.54838710e-01,\n",
       "       2.83870968e-01])"
      ]
     },
     "execution_count": 24,
     "metadata": {},
     "output_type": "execute_result"
    }
   ],
   "source": [
    "df_temp[0]"
   ]
  },
  {
   "cell_type": "code",
   "execution_count": 28,
   "metadata": {},
   "outputs": [
    {
     "data": {
      "text/html": [
       "<div>\n",
       "<style scoped>\n",
       "    .dataframe tbody tr th:only-of-type {\n",
       "        vertical-align: middle;\n",
       "    }\n",
       "\n",
       "    .dataframe tbody tr th {\n",
       "        vertical-align: top;\n",
       "    }\n",
       "\n",
       "    .dataframe thead th {\n",
       "        text-align: right;\n",
       "    }\n",
       "</style>\n",
       "<table border=\"1\" class=\"dataframe\">\n",
       "  <thead>\n",
       "    <tr style=\"text-align: right;\">\n",
       "      <th></th>\n",
       "      <th>age</th>\n",
       "      <th>sex</th>\n",
       "      <th>degree</th>\n",
       "      <th>city</th>\n",
       "      <th>x1</th>\n",
       "      <th>x2</th>\n",
       "      <th>x3</th>\n",
       "      <th>yingshi</th>\n",
       "      <th>meishi</th>\n",
       "      <th>youxi</th>\n",
       "      <th>shenghuo</th>\n",
       "      <th>huwai</th>\n",
       "      <th>yanzhi</th>\n",
       "      <th>y</th>\n",
       "    </tr>\n",
       "  </thead>\n",
       "  <tbody>\n",
       "    <tr>\n",
       "      <td>0</td>\n",
       "      <td>39.0</td>\n",
       "      <td>0.0</td>\n",
       "      <td>4.0</td>\n",
       "      <td>2.0</td>\n",
       "      <td>0.506667</td>\n",
       "      <td>0.333333</td>\n",
       "      <td>0.706667</td>\n",
       "      <td>0.180645</td>\n",
       "      <td>0.112903</td>\n",
       "      <td>0.003226</td>\n",
       "      <td>0.164516</td>\n",
       "      <td>0.254839</td>\n",
       "      <td>0.283871</td>\n",
       "      <td>0.129938</td>\n",
       "    </tr>\n",
       "    <tr>\n",
       "      <td>1</td>\n",
       "      <td>22.0</td>\n",
       "      <td>1.0</td>\n",
       "      <td>0.0</td>\n",
       "      <td>2.0</td>\n",
       "      <td>0.000000</td>\n",
       "      <td>0.980000</td>\n",
       "      <td>0.853333</td>\n",
       "      <td>0.138393</td>\n",
       "      <td>0.263393</td>\n",
       "      <td>0.044643</td>\n",
       "      <td>0.133929</td>\n",
       "      <td>0.375000</td>\n",
       "      <td>0.044643</td>\n",
       "      <td>0.161728</td>\n",
       "    </tr>\n",
       "    <tr>\n",
       "      <td>2</td>\n",
       "      <td>50.0</td>\n",
       "      <td>1.0</td>\n",
       "      <td>1.0</td>\n",
       "      <td>2.0</td>\n",
       "      <td>1.000000</td>\n",
       "      <td>0.806667</td>\n",
       "      <td>1.000000</td>\n",
       "      <td>0.110320</td>\n",
       "      <td>0.046263</td>\n",
       "      <td>0.124555</td>\n",
       "      <td>0.106762</td>\n",
       "      <td>0.266904</td>\n",
       "      <td>0.345196</td>\n",
       "      <td>0.154326</td>\n",
       "    </tr>\n",
       "    <tr>\n",
       "      <td>3</td>\n",
       "      <td>14.0</td>\n",
       "      <td>0.0</td>\n",
       "      <td>1.0</td>\n",
       "      <td>4.0</td>\n",
       "      <td>0.973333</td>\n",
       "      <td>0.380000</td>\n",
       "      <td>0.440000</td>\n",
       "      <td>0.053846</td>\n",
       "      <td>0.019231</td>\n",
       "      <td>0.196154</td>\n",
       "      <td>0.130769</td>\n",
       "      <td>0.384615</td>\n",
       "      <td>0.215385</td>\n",
       "      <td>0.229186</td>\n",
       "    </tr>\n",
       "    <tr>\n",
       "      <td>4</td>\n",
       "      <td>51.0</td>\n",
       "      <td>1.0</td>\n",
       "      <td>1.0</td>\n",
       "      <td>3.0</td>\n",
       "      <td>0.000000</td>\n",
       "      <td>0.946667</td>\n",
       "      <td>0.993333</td>\n",
       "      <td>0.019231</td>\n",
       "      <td>0.250000</td>\n",
       "      <td>0.334615</td>\n",
       "      <td>0.207692</td>\n",
       "      <td>0.115385</td>\n",
       "      <td>0.073077</td>\n",
       "      <td>0.215680</td>\n",
       "    </tr>\n",
       "    <tr>\n",
       "      <td>...</td>\n",
       "      <td>...</td>\n",
       "      <td>...</td>\n",
       "      <td>...</td>\n",
       "      <td>...</td>\n",
       "      <td>...</td>\n",
       "      <td>...</td>\n",
       "      <td>...</td>\n",
       "      <td>...</td>\n",
       "      <td>...</td>\n",
       "      <td>...</td>\n",
       "      <td>...</td>\n",
       "      <td>...</td>\n",
       "      <td>...</td>\n",
       "      <td>...</td>\n",
       "    </tr>\n",
       "    <tr>\n",
       "      <td>49995</td>\n",
       "      <td>11.0</td>\n",
       "      <td>1.0</td>\n",
       "      <td>4.0</td>\n",
       "      <td>2.0</td>\n",
       "      <td>1.000000</td>\n",
       "      <td>0.053333</td>\n",
       "      <td>0.720000</td>\n",
       "      <td>0.281853</td>\n",
       "      <td>0.000000</td>\n",
       "      <td>0.212355</td>\n",
       "      <td>0.019305</td>\n",
       "      <td>0.370656</td>\n",
       "      <td>0.115830</td>\n",
       "      <td>0.214610</td>\n",
       "    </tr>\n",
       "    <tr>\n",
       "      <td>49996</td>\n",
       "      <td>20.0</td>\n",
       "      <td>0.0</td>\n",
       "      <td>4.0</td>\n",
       "      <td>2.0</td>\n",
       "      <td>1.000000</td>\n",
       "      <td>0.453333</td>\n",
       "      <td>0.240000</td>\n",
       "      <td>0.282799</td>\n",
       "      <td>0.087464</td>\n",
       "      <td>0.206997</td>\n",
       "      <td>0.099125</td>\n",
       "      <td>0.107872</td>\n",
       "      <td>0.215743</td>\n",
       "      <td>0.233377</td>\n",
       "    </tr>\n",
       "    <tr>\n",
       "      <td>49997</td>\n",
       "      <td>17.0</td>\n",
       "      <td>0.0</td>\n",
       "      <td>4.0</td>\n",
       "      <td>3.0</td>\n",
       "      <td>0.606667</td>\n",
       "      <td>0.633333</td>\n",
       "      <td>0.193333</td>\n",
       "      <td>0.205128</td>\n",
       "      <td>0.089744</td>\n",
       "      <td>0.282051</td>\n",
       "      <td>0.134615</td>\n",
       "      <td>0.051282</td>\n",
       "      <td>0.237179</td>\n",
       "      <td>0.222687</td>\n",
       "    </tr>\n",
       "    <tr>\n",
       "      <td>49998</td>\n",
       "      <td>8.0</td>\n",
       "      <td>1.0</td>\n",
       "      <td>1.0</td>\n",
       "      <td>4.0</td>\n",
       "      <td>0.206667</td>\n",
       "      <td>0.460000</td>\n",
       "      <td>1.000000</td>\n",
       "      <td>0.112069</td>\n",
       "      <td>0.232759</td>\n",
       "      <td>0.244253</td>\n",
       "      <td>0.114943</td>\n",
       "      <td>0.097701</td>\n",
       "      <td>0.198276</td>\n",
       "      <td>0.217947</td>\n",
       "    </tr>\n",
       "    <tr>\n",
       "      <td>49999</td>\n",
       "      <td>24.0</td>\n",
       "      <td>1.0</td>\n",
       "      <td>1.0</td>\n",
       "      <td>2.0</td>\n",
       "      <td>0.000000</td>\n",
       "      <td>0.553333</td>\n",
       "      <td>0.333333</td>\n",
       "      <td>0.193980</td>\n",
       "      <td>0.080268</td>\n",
       "      <td>0.307692</td>\n",
       "      <td>0.284281</td>\n",
       "      <td>0.046823</td>\n",
       "      <td>0.086957</td>\n",
       "      <td>0.183120</td>\n",
       "    </tr>\n",
       "  </tbody>\n",
       "</table>\n",
       "<p>50000 rows × 14 columns</p>\n",
       "</div>"
      ],
      "text/plain": [
       "        age  sex  degree  city        x1        x2        x3   yingshi  \\\n",
       "0      39.0  0.0     4.0   2.0  0.506667  0.333333  0.706667  0.180645   \n",
       "1      22.0  1.0     0.0   2.0  0.000000  0.980000  0.853333  0.138393   \n",
       "2      50.0  1.0     1.0   2.0  1.000000  0.806667  1.000000  0.110320   \n",
       "3      14.0  0.0     1.0   4.0  0.973333  0.380000  0.440000  0.053846   \n",
       "4      51.0  1.0     1.0   3.0  0.000000  0.946667  0.993333  0.019231   \n",
       "...     ...  ...     ...   ...       ...       ...       ...       ...   \n",
       "49995  11.0  1.0     4.0   2.0  1.000000  0.053333  0.720000  0.281853   \n",
       "49996  20.0  0.0     4.0   2.0  1.000000  0.453333  0.240000  0.282799   \n",
       "49997  17.0  0.0     4.0   3.0  0.606667  0.633333  0.193333  0.205128   \n",
       "49998   8.0  1.0     1.0   4.0  0.206667  0.460000  1.000000  0.112069   \n",
       "49999  24.0  1.0     1.0   2.0  0.000000  0.553333  0.333333  0.193980   \n",
       "\n",
       "         meishi     youxi  shenghuo     huwai    yanzhi         y  \n",
       "0      0.112903  0.003226  0.164516  0.254839  0.283871  0.129938  \n",
       "1      0.263393  0.044643  0.133929  0.375000  0.044643  0.161728  \n",
       "2      0.046263  0.124555  0.106762  0.266904  0.345196  0.154326  \n",
       "3      0.019231  0.196154  0.130769  0.384615  0.215385  0.229186  \n",
       "4      0.250000  0.334615  0.207692  0.115385  0.073077  0.215680  \n",
       "...         ...       ...       ...       ...       ...       ...  \n",
       "49995  0.000000  0.212355  0.019305  0.370656  0.115830  0.214610  \n",
       "49996  0.087464  0.206997  0.099125  0.107872  0.215743  0.233377  \n",
       "49997  0.089744  0.282051  0.134615  0.051282  0.237179  0.222687  \n",
       "49998  0.232759  0.244253  0.114943  0.097701  0.198276  0.217947  \n",
       "49999  0.080268  0.307692  0.284281  0.046823  0.086957  0.183120  \n",
       "\n",
       "[50000 rows x 14 columns]"
      ]
     },
     "execution_count": 28,
     "metadata": {},
     "output_type": "execute_result"
    }
   ],
   "source": [
    "df['y'] = pd.DataFrame(y,columns=['y'])\n",
    "df"
   ]
  },
  {
   "cell_type": "code",
   "execution_count": 5,
   "metadata": {},
   "outputs": [],
   "source": [
    "df.to_csv('sample_v1.csv')"
   ]
  },
  {
   "cell_type": "code",
   "execution_count": 11,
   "metadata": {},
   "outputs": [],
   "source": [
    "import pandas as pd\n",
    "# from CTL.CTL_MT_concave_test import CausalTree\n",
    "from CTL.CTL_MT_testFC import CausalTree\n",
    "# from CTL.CTL_MT_testNl_Weigh import CausalTree\n",
    "from sklearn.model_selection import train_test_split\n",
    "import numpy as np\n",
    "import time\n",
    "import pickle\n",
    "from tqdm import tqdm"
   ]
  },
  {
   "cell_type": "code",
   "execution_count": 12,
   "metadata": {},
   "outputs": [],
   "source": [
    "data = pd.read_csv('sample_v1.csv')"
   ]
  },
  {
   "cell_type": "code",
   "execution_count": 13,
   "metadata": {},
   "outputs": [],
   "source": [
    "data_train,data_test = train_test_split(data,test_size=0.2,random_state=42)\n",
    "fea = ['age','sex','degree','city','x1','x2','x3']\n",
    "treat = ['yingshi','meishi','youxi','shenghuo','huwai','yanzhi']\n",
    "y = 'y'\n",
    "\n",
    "x_train = data_train[fea]\n",
    "y_train = data_train[y]\n",
    "treatment_train = data_train[treat]\n",
    "x_test = data_test[fea]\n",
    "y_test = data_test[y]\n",
    "treatment_test = data_test[treat]"
   ]
  },
  {
   "cell_type": "code",
   "execution_count": 14,
   "metadata": {},
   "outputs": [
    {
     "name": "stdout",
     "output_type": "stream",
     "text": [
      "Wall time: 14.3 s\n"
     ]
    }
   ],
   "source": [
    "%%time\n",
    "ctlmt = CausalTree(cont=True,split_size=0.2,max_depth=4,quantile=True,tnums=6,min_size=2)\n",
    "ctlmt.fit(x_train.values,y_train.values,treatment_train.values)"
   ]
  },
  {
   "cell_type": "code",
   "execution_count": 15,
   "metadata": {},
   "outputs": [
    {
     "data": {
      "text/plain": [
       "(array([0.55547318, 0.56268956, 0.50774974, ..., 0.57196907, 0.55131067,\n",
       "        0.56268956]),\n",
       " array([{1: 0.26431778013160717, 2: 0.265291719680964, 3: 0.26121788333439727, 5: 0.17853455861165354, 0: 0.024836998581049215, 4: 0.005801059660328741},\n",
       "        {5: 0.2687155425171734, 1: 0.268436336082332, 2: 0.2644610475091815, 4: 0.1693922297531244, 0: 0.02455720104615106, 3: 0.004437643092037587},\n",
       "        {2: 0.2709528452845513, 4: 0.270806015291791, 3: 0.06482927212071485, 5: 0.27361822087864396, 1: 0.11489621980961326, 0: 0.00489742661468551},\n",
       "        ...,\n",
       "        {2: 0.2690473772197417, 0: 0.26915108482705796, 1: 0.2690409735780454, 4: 0.1668086337385367, 5: 0.0230840711192684, 3: 0.0028678595173496726},\n",
       "        {2: 0.26217673694012783, 0: 0.2667895201796544, 3: 0.26458873865808813, 5: 0.17792770126643923, 1: 0.02380876256848333, 4: 0.004708540387207109},\n",
       "        {5: 0.2687155425171734, 1: 0.268436336082332, 2: 0.2644610475091815, 4: 0.1693922297531244, 0: 0.02455720104615106, 3: 0.004437643092037587}],\n",
       "       dtype=object))"
      ]
     },
     "execution_count": 15,
     "metadata": {},
     "output_type": "execute_result"
    }
   ],
   "source": [
    "ctlmt.predict(x_test.values)"
   ]
  },
  {
   "cell_type": "code",
   "execution_count": 6,
   "metadata": {},
   "outputs": [],
   "source": [
    "ctlmt.plot_tree(training_data=x_train)"
   ]
  },
  {
   "cell_type": "code",
   "execution_count": 20,
   "metadata": {},
   "outputs": [
    {
     "name": "stderr",
     "output_type": "stream",
     "text": [
      "100%|██████████████████████████████████████████████████████████████████████████████████| 50/50 [11:48<00:00, 14.16s/it]\n"
     ]
    }
   ],
   "source": [
    "ctlmt_forest = []\n",
    "for i in tqdm(range(50)):\n",
    "    ctlmt = CausalTree(cont=True,split_size=0.2,max_depth=4,quantile=True,tnums=6)\n",
    "    ctlmt.fit(x_train.values, y_train.values, treatment_train.values)\n",
    "    ctlmt_forest.append(ctlmt)"
   ]
  },
  {
   "cell_type": "code",
   "execution_count": 21,
   "metadata": {},
   "outputs": [],
   "source": [
    "t_pred_list = []\n",
    "for i in range(len(ctlmt_forest)):\n",
    "    t_pred_list.append(ctlmt_forest[i].predict(x_test.values)[1])"
   ]
  },
  {
   "cell_type": "code",
   "execution_count": 22,
   "metadata": {},
   "outputs": [],
   "source": [
    "t_pred_result = [{}]*len(x_test)\n",
    "keys = range(6)\n",
    "for i in range(len(x_test)):\n",
    "    for key in keys:\n",
    "        t_pred_result[i][key] = sum([d.get(key,0) for d in [t_pred_list[j][i] for j in range(len(ctlmt_forest))]])/50\n",
    "    t_pred_result[i] = t_pred_result[i].copy()"
   ]
  },
  {
   "cell_type": "code",
   "execution_count": 23,
   "metadata": {},
   "outputs": [
    {
     "data": {
      "text/plain": [
       "{0: 0.14552049328808953,\n",
       " 1: 0.1760422184192831,\n",
       " 2: 0.2363615842007921,\n",
       " 3: 0.14721467254352985,\n",
       " 4: 0.14629293690951609,\n",
       " 5: 0.1485680946387893}"
      ]
     },
     "execution_count": 23,
     "metadata": {},
     "output_type": "execute_result"
    }
   ],
   "source": [
    "t_pred_result[1]"
   ]
  },
  {
   "cell_type": "code",
   "execution_count": 15,
   "metadata": {},
   "outputs": [
    {
     "data": {
      "text/html": [
       "<div>\n",
       "<style scoped>\n",
       "    .dataframe tbody tr th:only-of-type {\n",
       "        vertical-align: middle;\n",
       "    }\n",
       "\n",
       "    .dataframe tbody tr th {\n",
       "        vertical-align: top;\n",
       "    }\n",
       "\n",
       "    .dataframe thead th {\n",
       "        text-align: right;\n",
       "    }\n",
       "</style>\n",
       "<table border=\"1\" class=\"dataframe\">\n",
       "  <thead>\n",
       "    <tr style=\"text-align: right;\">\n",
       "      <th></th>\n",
       "      <th>age</th>\n",
       "      <th>sex</th>\n",
       "      <th>degree</th>\n",
       "      <th>city</th>\n",
       "      <th>x1</th>\n",
       "      <th>x2</th>\n",
       "      <th>x3</th>\n",
       "    </tr>\n",
       "  </thead>\n",
       "  <tbody>\n",
       "    <tr>\n",
       "      <td>33553</td>\n",
       "      <td>8.0</td>\n",
       "      <td>1.0</td>\n",
       "      <td>1.0</td>\n",
       "      <td>3.0</td>\n",
       "      <td>0.473333</td>\n",
       "      <td>1.000000</td>\n",
       "      <td>0.000000</td>\n",
       "    </tr>\n",
       "    <tr>\n",
       "      <td>9427</td>\n",
       "      <td>8.0</td>\n",
       "      <td>0.0</td>\n",
       "      <td>1.0</td>\n",
       "      <td>2.0</td>\n",
       "      <td>1.000000</td>\n",
       "      <td>0.000000</td>\n",
       "      <td>0.500000</td>\n",
       "    </tr>\n",
       "    <tr>\n",
       "      <td>199</td>\n",
       "      <td>27.0</td>\n",
       "      <td>0.0</td>\n",
       "      <td>1.0</td>\n",
       "      <td>4.0</td>\n",
       "      <td>0.853333</td>\n",
       "      <td>0.146667</td>\n",
       "      <td>0.000000</td>\n",
       "    </tr>\n",
       "    <tr>\n",
       "      <td>12447</td>\n",
       "      <td>48.0</td>\n",
       "      <td>1.0</td>\n",
       "      <td>1.0</td>\n",
       "      <td>0.0</td>\n",
       "      <td>0.620000</td>\n",
       "      <td>0.013333</td>\n",
       "      <td>1.000000</td>\n",
       "    </tr>\n",
       "    <tr>\n",
       "      <td>39489</td>\n",
       "      <td>64.0</td>\n",
       "      <td>1.0</td>\n",
       "      <td>0.0</td>\n",
       "      <td>2.0</td>\n",
       "      <td>0.760000</td>\n",
       "      <td>0.746667</td>\n",
       "      <td>0.806667</td>\n",
       "    </tr>\n",
       "    <tr>\n",
       "      <td>...</td>\n",
       "      <td>...</td>\n",
       "      <td>...</td>\n",
       "      <td>...</td>\n",
       "      <td>...</td>\n",
       "      <td>...</td>\n",
       "      <td>...</td>\n",
       "      <td>...</td>\n",
       "    </tr>\n",
       "    <tr>\n",
       "      <td>28567</td>\n",
       "      <td>67.0</td>\n",
       "      <td>1.0</td>\n",
       "      <td>4.0</td>\n",
       "      <td>3.0</td>\n",
       "      <td>0.640000</td>\n",
       "      <td>0.000000</td>\n",
       "      <td>0.326667</td>\n",
       "    </tr>\n",
       "    <tr>\n",
       "      <td>25079</td>\n",
       "      <td>54.0</td>\n",
       "      <td>0.0</td>\n",
       "      <td>2.0</td>\n",
       "      <td>4.0</td>\n",
       "      <td>0.320000</td>\n",
       "      <td>0.360000</td>\n",
       "      <td>0.906667</td>\n",
       "    </tr>\n",
       "    <tr>\n",
       "      <td>18707</td>\n",
       "      <td>16.0</td>\n",
       "      <td>1.0</td>\n",
       "      <td>3.0</td>\n",
       "      <td>0.0</td>\n",
       "      <td>0.553333</td>\n",
       "      <td>1.000000</td>\n",
       "      <td>0.880000</td>\n",
       "    </tr>\n",
       "    <tr>\n",
       "      <td>15200</td>\n",
       "      <td>61.0</td>\n",
       "      <td>1.0</td>\n",
       "      <td>1.0</td>\n",
       "      <td>2.0</td>\n",
       "      <td>0.986667</td>\n",
       "      <td>0.000000</td>\n",
       "      <td>0.673333</td>\n",
       "    </tr>\n",
       "    <tr>\n",
       "      <td>5857</td>\n",
       "      <td>25.0</td>\n",
       "      <td>1.0</td>\n",
       "      <td>1.0</td>\n",
       "      <td>0.0</td>\n",
       "      <td>0.513333</td>\n",
       "      <td>0.000000</td>\n",
       "      <td>0.200000</td>\n",
       "    </tr>\n",
       "  </tbody>\n",
       "</table>\n",
       "<p>10000 rows × 7 columns</p>\n",
       "</div>"
      ],
      "text/plain": [
       "        age  sex  degree  city        x1        x2        x3\n",
       "33553   8.0  1.0     1.0   3.0  0.473333  1.000000  0.000000\n",
       "9427    8.0  0.0     1.0   2.0  1.000000  0.000000  0.500000\n",
       "199    27.0  0.0     1.0   4.0  0.853333  0.146667  0.000000\n",
       "12447  48.0  1.0     1.0   0.0  0.620000  0.013333  1.000000\n",
       "39489  64.0  1.0     0.0   2.0  0.760000  0.746667  0.806667\n",
       "...     ...  ...     ...   ...       ...       ...       ...\n",
       "28567  67.0  1.0     4.0   3.0  0.640000  0.000000  0.326667\n",
       "25079  54.0  0.0     2.0   4.0  0.320000  0.360000  0.906667\n",
       "18707  16.0  1.0     3.0   0.0  0.553333  1.000000  0.880000\n",
       "15200  61.0  1.0     1.0   2.0  0.986667  0.000000  0.673333\n",
       "5857   25.0  1.0     1.0   0.0  0.513333  0.000000  0.200000\n",
       "\n",
       "[10000 rows x 7 columns]"
      ]
     },
     "execution_count": 15,
     "metadata": {},
     "output_type": "execute_result"
    }
   ],
   "source": [
    "x_test"
   ]
  },
  {
   "cell_type": "code",
   "execution_count": 16,
   "metadata": {},
   "outputs": [],
   "source": [
    "with open('res_nl.pkl', 'wb') as f:\n",
    "    pickle.dump(t_pred_result, f)\n",
    "    \n",
    "# with open('res_nl.pkl', 'rb') as fo:\n",
    "#     res_nl = pickle.load(fo, encoding='bytes')"
   ]
  },
  {
   "cell_type": "code",
   "execution_count": 24,
   "metadata": {},
   "outputs": [],
   "source": [
    "with open('res_fc.pkl', 'wb') as f:\n",
    "    pickle.dump(t_pred_result, f)\n",
    "    \n",
    "# with open('res_nl.pkl', 'rb') as fo:\n",
    "#     res_nl = pickle.load(fo, encoding='bytes')"
   ]
  },
  {
   "cell_type": "code",
   "execution_count": null,
   "metadata": {},
   "outputs": [],
   "source": []
  }
 ],
 "metadata": {
  "kernelspec": {
   "display_name": "Python 3",
   "language": "python",
   "name": "python3"
  },
  "language_info": {
   "codemirror_mode": {
    "name": "ipython",
    "version": 3
   },
   "file_extension": ".py",
   "mimetype": "text/x-python",
   "name": "python",
   "nbconvert_exporter": "python",
   "pygments_lexer": "ipython3",
   "version": "3.7.4"
  }
 },
 "nbformat": 4,
 "nbformat_minor": 2
}
